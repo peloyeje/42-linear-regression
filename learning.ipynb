{
 "cells": [
  {
   "cell_type": "code",
   "execution_count": 130,
   "metadata": {},
   "outputs": [],
   "source": [
    "import numpy as np\n",
    "data = np.genfromtxt(\"data/data.csv\",delimiter=',',skip_header=1)"
   ]
  },
  {
   "cell_type": "code",
   "execution_count": 131,
   "metadata": {},
   "outputs": [],
   "source": [
    "theta_old = (0,0)"
   ]
  },
  {
   "cell_type": "code",
   "execution_count": 132,
   "metadata": {},
   "outputs": [],
   "source": [
    "def init_theta():\n",
    "    return (0,0)\n",
    "\n",
    "def update_theta(theta_old,data,learning_rate):\n",
    "    prices = data[:,1]\n",
    "    mileages = data[:,0]\n",
    "    estimates = theta_old[0]+theta_old[1]*mileages\n",
    "    m = prices.size\n",
    "    theta0_new = theta_old[0]-learning_rate*sum(estimates-prices)/m\n",
    "    theta1_new = theta_old[1]-learning_rate*sum((estimates-prices)*mileages)/m\n",
    "    return (theta0_new,theta1_new)"
   ]
  },
  {
   "cell_type": "code",
   "execution_count": 152,
   "metadata": {},
   "outputs": [],
   "source": [
    "theta_test = init_theta()\n",
    "theta_test = update_theta(theta_test,data,0.5)"
   ]
  },
  {
   "cell_type": "code",
   "execution_count": 159,
   "metadata": {},
   "outputs": [
    {
     "name": "stdout",
     "output_type": "stream",
     "text": [
      "(-1.0474004077805004e+72, -1.334130633028402e+77)\n"
     ]
    }
   ],
   "source": [
    "theta_test = update_theta(theta_test,data,0.5)\n",
    "print(theta_test)"
   ]
  },
  {
   "cell_type": "code",
   "execution_count": 150,
   "metadata": {},
   "outputs": [],
   "source": [
    "prices = data[:,1]\n",
    "mileages = data[:,0]\n",
    "estimates = theta[0]+theta[1]*mileages\n",
    "m = prices.size\n",
    "theta0_new = theta_old[0]-0.5*sum(estimates-prices)/m\n",
    "theta1_new = theta_old[1]-0.5*sum((estimates-prices)*mileages)/m"
   ]
  },
  {
   "cell_type": "code",
   "execution_count": 151,
   "metadata": {},
   "outputs": [
    {
     "data": {
      "text/plain": [
       "-12581954970.0"
      ]
     },
     "execution_count": 151,
     "metadata": {},
     "output_type": "execute_result"
    }
   ],
   "source": [
    "theta1_new"
   ]
  },
  {
   "cell_type": "code",
   "execution_count": 100,
   "metadata": {},
   "outputs": [
    {
     "data": {
      "text/plain": [
       "array([240000., 139800., 150500., 185530., 176000., 114800., 166800.,\n",
       "        89000., 144500.,  84000.,  82029.,  63060.,  74000.,  97500.,\n",
       "        67000.,  76025.,  48235.,  93000.,  60949.,  65674.,  54000.,\n",
       "        68500.,  22899.,  61789.])"
      ]
     },
     "execution_count": 100,
     "metadata": {},
     "output_type": "execute_result"
    }
   ],
   "source": [
    "mileages"
   ]
  },
  {
   "cell_type": "code",
   "execution_count": 124,
   "metadata": {},
   "outputs": [
    {
     "data": {
      "text/plain": [
       "24"
      ]
     },
     "execution_count": 124,
     "metadata": {},
     "output_type": "execute_result"
    }
   ],
   "source": [
    "m"
   ]
  },
  {
   "cell_type": "code",
   "execution_count": null,
   "metadata": {
    "collapsed": true
   },
   "outputs": [],
   "source": []
  }
 ],
 "metadata": {
  "kernelspec": {
   "display_name": "Python 3",
   "language": "python",
   "name": "python3"
  },
  "language_info": {
   "codemirror_mode": {
    "name": "ipython",
    "version": 3
   },
   "file_extension": ".py",
   "mimetype": "text/x-python",
   "name": "python",
   "nbconvert_exporter": "python",
   "pygments_lexer": "ipython3",
   "version": "3.6.2"
  }
 },
 "nbformat": 4,
 "nbformat_minor": 2
}
