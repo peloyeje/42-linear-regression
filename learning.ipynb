{
 "cells": [
  {
   "cell_type": "code",
   "execution_count": 2,
   "metadata": {
    "collapsed": true
   },
   "outputs": [],
   "source": [
    "import numpy as np\n",
    "data = np.genfromtxt(\"data/data.csv\",delimiter=',',skip_header=1)"
   ]
  },
  {
   "cell_type": "code",
   "execution_count": 31,
   "metadata": {
    "collapsed": true
   },
   "outputs": [],
   "source": [
    "def norm_mileage(data):\n",
    "    mileage_mean = np.mean(data[:,0])\n",
    "    mileage_std = np.std(data[:,0])\n",
    "    new_data = np.column_stack(((data[:,0]-mileage_mean)/mileage_std,data[:,1]))\n",
    "    return(new_data,mileage_mean,mileage_std)\n",
    "\n",
    "def init_theta():\n",
    "    return (0,0)\n",
    "\n",
    "def update_theta(theta_old,data_normed,learning_rate):\n",
    "    prices = data_normed[:,1]\n",
    "    mileages= data_normed[:,0]\n",
    "    estimates = theta_old[0]+theta_old[1]*mileages\n",
    "    m = prices.size\n",
    "    theta0_grad = 2*np.mean(np.add(estimates,-prices))\n",
    "    theta1_grad = 2*np.mean(np.multiply(np.add(estimates,-prices),mileages))\n",
    "    return (theta_old[0]-learning_rate*theta0_grad,theta_old[1]-learning_rate*theta1_grad)\n",
    "\n",
    "def correct_theta(theta,mileage_mean,mileage_std):\n",
    "    return(theta[0]-mileage_mean/mileage_std,theta[1]/mileage_std)\n",
    "\n",
    "def train_model(data):\n",
    "    (data_normed,mileage_mean,mileage_std) = norm_mileage(data)\n",
    "    theta = init_theta()\n",
    "    for i in range(0,1000):\n",
    "        theta = update_theta(theta,data_normed,0.01)\n",
    "    theta = correct_theta(theta,mileage_mean,mileage_std)\n",
    "    return(theta)"
   ]
  },
  {
   "cell_type": "code",
   "execution_count": 32,
   "metadata": {
    "scrolled": true
   },
   "outputs": [
    {
     "data": {
      "text/plain": [
       "(6329.873352197463, -0.021448963555604397)"
      ]
     },
     "execution_count": 32,
     "metadata": {},
     "output_type": "execute_result"
    }
   ],
   "source": [
    "train_model(data)"
   ]
  },
  {
   "cell_type": "code",
   "execution_count": null,
   "metadata": {
    "collapsed": true
   },
   "outputs": [],
   "source": []
  }
 ],
 "metadata": {
  "kernelspec": {
   "display_name": "Python 3",
   "language": "python",
   "name": "python3"
  },
  "language_info": {
   "codemirror_mode": {
    "name": "ipython",
    "version": 3
   },
   "file_extension": ".py",
   "mimetype": "text/x-python",
   "name": "python",
   "nbconvert_exporter": "python",
   "pygments_lexer": "ipython3",
   "version": "3.6.2"
  }
 },
 "nbformat": 4,
 "nbformat_minor": 2
}
