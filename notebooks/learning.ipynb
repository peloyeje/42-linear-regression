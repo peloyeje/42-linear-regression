{
 "cells": [
  {
   "cell_type": "code",
   "execution_count": 2,
   "metadata": {
    "collapsed": true
   },
   "outputs": [],
   "source": [
    "import numpy as np\n",
    "import matplotlib.pyplot as plt\n",
    "%matplotlib inline\n",
    "data = np.genfromtxt(\"data/data.csv\",delimiter=',',skip_header=1)"
   ]
  },
  {
   "cell_type": "code",
   "execution_count": 72,
   "metadata": {},
   "outputs": [],
   "source": [
    "class LinearRegression():\n",
    "    def __init__(self):\n",
    "        self.theta = (0,0)\n",
    "        \n",
    "    ## Predictions\n",
    "    def estimatePrice(self, theta0, theta1, mileage):\n",
    "        return theta0 + theta1 * mileage\n",
    "\n",
    "    def vec_estimatePrice(self, theta0, theta1) :\n",
    "        return np.vectorize(lambda x : self.estimatePrice(theta0, theta1, x))\n",
    "    \n",
    "    def plot_predictions(self,data):\n",
    "        prices = data[:, 1]\n",
    "        kms = data[:, 0]\n",
    "        lim_low = np.min(kms)\n",
    "        lim_high = np.max(kms)\n",
    "        (theta0, theta1) = self.theta\n",
    "        plt.scatter(kms, price, c=\"orange\")\n",
    "        x = np.linspace(lim_low, lim_high, 1000)\n",
    "        plt.plot(x, theta0 + theta1 * x)\n",
    "    \n",
    "    ## Model training\n",
    "    def norm_data(self,data):\n",
    "        mileage_mean = np.mean(data[:,0])\n",
    "        mileage_std = np.std(data[:,0])\n",
    "        price_mean = np.mean(data[:,1])\n",
    "        new_data = np.column_stack(((data[:,0]-mileage_mean)/mileage_std,data[:,1]-price_mean))\n",
    "        return(new_data,mileage_mean,mileage_std,price_mean)\n",
    "\n",
    "    def update_theta(self,theta_old,data_normed,learning_rate):\n",
    "        prices = data_normed[:,1]\n",
    "        mileages= data_normed[:,0]\n",
    "        estimates = theta_old[0]+theta_old[1]*mileages\n",
    "        theta0_grad = 2*np.mean(estimates-prices)\n",
    "        theta1_grad = 2*np.mean((estimates-prices)*mileages)\n",
    "        return (theta_old[0]-learning_rate*theta0_grad,theta_old[1]-learning_rate*theta1_grad)\n",
    "    \n",
    "    def correct_theta(self,theta,mileage_mean,mileage_std,price_mean):\n",
    "        return(theta[0]+price_mean-(mileage_mean*theta[1]/mileage_std),theta[1]/mileage_std)\n",
    "    \n",
    "    def train(self,data,iterations = 300, learning_rate = 0.01):\n",
    "        theta = self.theta\n",
    "        (data_normed,mileage_mean,mileage_std,price_mean) = self.norm_data(data)\n",
    "        for i in range(0,iterations-1):\n",
    "            theta = self.update_theta(theta,data_normed,learning_rate)\n",
    "        theta = self.correct_theta(theta,mileage_mean,mileage_std,price_mean)\n",
    "        self.theta = theta\n",
    "    \n",
    "    ## Extra\n",
    "    def loss_evolution(self,data, iterations = 200, learning_rate = 0.01):\n",
    "        all_theta = np.array([[0,0]])\n",
    "        (data_normed,mileage_mean,mileage_std,price_mean) = self.norm_data(data)\n",
    "        for i in range(0,iterations-1):\n",
    "            new_theta = self.update_theta(all_theta[-1],data_normed,learning_rate)\n",
    "            all_theta = np.concatenate((all_theta,[new_theta]),axis=0)\n",
    "        all_theta = np.array([self.correct_theta(theta,mileage_mean,mileage_std,price_mean) for theta in all_theta])\n",
    "        predictions = np.outer(all_theta[:,0],np.ones(data[:,0].size)) + np.outer(all_theta[:,1],(data[:,0]))\n",
    "        loss = np.average(np.square(predictions - data[:,1]), axis=1)\n",
    "        return(loss)\n",
    "    \n",
    "    def plot_loss_evolution(self,data, iterations = 400, learning_rate = 0.01):\n",
    "        loss = self.loss_evolution(data, iterations, learning_rate)\n",
    "        plt.plot(loss)\n",
    "        plt.show\n",
    "    \n",
    "    def predict(self):\n",
    "        all_theta0, all_theta1 = self.train()\n",
    "        final_theta0, final_theta1 = all_theta0[-1], all_theta1[-1]\n",
    "        predict = final_theta0 + final_theta1 * self.kms\n",
    "        return predict"
   ]
  },
  {
   "cell_type": "code",
   "execution_count": 75,
   "metadata": {},
   "outputs": [
    {
     "data": {
      "image/png": "[encoded data removed]",
      "text/plain": [
       "<matplotlib.figure.Figure at 0x105bf0860>"
      ]
     },
     "metadata": {},
     "output_type": "display_data"
    }
   ],
   "source": [
    "loss = LinearRegression()\n",
    "loss.train(data)\n",
    "loss.plot_predictions(data)"
   ]
  },
  {
   "cell_type": "code",
   "execution_count": 77,
   "metadata": {},
   "outputs": [
    {
     "data": {
      "image/png": "[encoded data removed]",
      "text/plain": [
       "<matplotlib.figure.Figure at 0x10dfca198>"
      ]
     },
     "metadata": {},
     "output_type": "display_data"
    }
   ],
   "source": [
    "loss.plot_loss_evolution(data)"
   ]
  },
  {
   "cell_type": "code",
   "execution_count": null,
   "metadata": {
    "collapsed": true
   },
   "outputs": [],
   "source": []
  }
 ],
 "metadata": {
  "kernelspec": {
   "display_name": "Python 3",
   "language": "python",
   "name": "python3"
  },
  "language_info": {
   "codemirror_mode": {
    "name": "ipython",
    "version": 3
   },
   "file_extension": ".py",
   "mimetype": "text/x-python",
   "name": "python",
   "nbconvert_exporter": "python",
   "pygments_lexer": "ipython3",
   "version": "3.6.2"
  }
 },
 "nbformat": 4,
 "nbformat_minor": 2
}
