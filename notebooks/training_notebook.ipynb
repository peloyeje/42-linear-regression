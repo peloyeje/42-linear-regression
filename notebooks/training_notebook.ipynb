{
 "cells": [
  {
   "cell_type": "code",
   "execution_count": 1,
   "metadata": {
    "collapsed": true
   },
   "outputs": [],
   "source": [
    "import numpy as np\n",
    "import matplotlib.pyplot as plt\n",
    "%matplotlib inline"
   ]
  },
  {
   "cell_type": "code",
   "execution_count": 108,
   "metadata": {
    "collapsed": false
   },
   "outputs": [],
   "source": [
    "class LinearRegression(object):\n",
    "    def __init__(self, learning_rate, iterations):\n",
    "        data = np.genfromtxt('../data/data.csv', delimiter=',', skip_header=1)\n",
    "        self.price = data[:, 1]\n",
    "        \n",
    "        self.kms = data[:, 0]\n",
    "        self.mean_kms = np.mean(self.kms)\n",
    "        self.std_kms = np.std(self.kms) \n",
    "        self.norm_kms = (self.kms - self.mean_kms)/self.std_kms \n",
    "        \n",
    "        self.theta0 = 0\n",
    "        self.theta1 = 0\n",
    "        \n",
    "        self.learning_rate = learning_rate\n",
    "        self.iterations = iterations\n",
    "\n",
    "    def estimatePrice(self, theta0, theta1, mileage):\n",
    "        return theta0 + theta1 * mileage\n",
    "\n",
    "    def vec_estimatePrice(self, theta0, theta1):\n",
    "        return np.vectorize(lambda x : self.estimatePrice(theta0, theta1, x))\n",
    "\n",
    "    def new_thetas(self, theta0, theta1, kms):\n",
    "        vfunc = self.vec_estimatePrice(theta0, theta1)\n",
    "        theta0 = self.learning_rate * np.mean(vfunc(kms) - price)\n",
    "        theta1 = self.learning_rate * np.mean((vfunc(kms) - price) * kms)\n",
    "        return theta0, theta1\n",
    "\n",
    "    def train(self):\n",
    "        all_theta0 = np.empty((0,1))\n",
    "        all_theta1 = np.empty((0,1))\n",
    "        for i in range(self.iterations):\n",
    "            self.theta0, self.theta1 = self.new_thetas(self.theta0, self.theta1, self.norm_kms)\n",
    "            all_theta0 = np.append(all_theta0, np.array([[self.theta0]]), axis = 0)\n",
    "            all_theta1 = np.append(all_theta1, np.array([[self.theta1]]), axis = 0)\n",
    "        \n",
    "        all_theta0 = all_theta0 - (self.mean_kms/self.std_kms)\n",
    "        all_theta1 = all_theta1/self.std_kms\n",
    "        \n",
    "        return all_theta0, all_theta1\n",
    "    \n",
    "    def plot_loss(self):\n",
    "        all_theta0, all_theta1 = self.train()\n",
    "        predictions = all_theta0 + all_theta1 * self.kms\n",
    "        loss = np.average(np.square(predictions - self.price), axis=1)\n",
    "        plt.plot(loss)\n",
    "    \n",
    "    def predict(self):\n",
    "        all_theta0, all_theta1 = self.train()\n",
    "        final_theta0, final_theta1 = all_theta0[-1], all_theta1[-1]\n",
    "        predict = final_theta0 + final_theta1 * self.kms\n",
    "        return predict\n",
    "        "
   ]
  },
  {
   "cell_type": "code",
   "execution_count": 109,
   "metadata": {
    "collapsed": false
   },
   "outputs": [
    {
     "data": {
      "image/png": "[encoded data removed]",
      "text/plain": [
       "<matplotlib.figure.Figure at 0x10ca49438>"
      ]
     },
     "metadata": {},
     "output_type": "display_data"
    }
   ],
   "source": [
    "loss = LinearRegression(0.1, 1000).plot_loss()"
   ]
  }
 ],
 "metadata": {
  "kernelspec": {
   "display_name": "Python 3",
   "language": "python",
   "name": "python3"
  },
  "language_info": {
   "codemirror_mode": {
    "name": "ipython",
    "version": 3
   },
   "file_extension": ".py",
   "mimetype": "text/x-python",
   "name": "python",
   "nbconvert_exporter": "python",
   "pygments_lexer": "ipython3",
   "version": "3.6.0"
  }
 },
 "nbformat": 4,
 "nbformat_minor": 2
}
