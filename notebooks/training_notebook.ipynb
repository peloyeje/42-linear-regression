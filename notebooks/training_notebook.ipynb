{
 "cells": [
  {
   "cell_type": "code",
   "execution_count": 21,
   "metadata": {
    "collapsed": true
   },
   "outputs": [],
   "source": [
    "import numpy as np\n",
    "import matplotlib.pyplot as plt\n",
    "%matplotlib inline"
   ]
  },
  {
   "cell_type": "code",
   "execution_count": 2,
   "metadata": {
    "collapsed": false
   },
   "outputs": [],
   "source": [
    "data = np.genfromtxt('../data/data.csv', delimiter=',', skip_header=1)\n",
    "price = data[:, 1]\n",
    "kms = data[:, 0]\n",
    "\n",
    "def init_thetas():    \n",
    "    theta0 = 0\n",
    "    theta1 = 0\n",
    "    return theta0, theta1"
   ]
  },
  {
   "cell_type": "code",
   "execution_count": 3,
   "metadata": {
    "collapsed": true
   },
   "outputs": [],
   "source": [
    "def estimatePrice(theta0, theta1, mileage):\n",
    "    return theta0 + theta1 * mileage"
   ]
  },
  {
   "cell_type": "code",
   "execution_count": 4,
   "metadata": {
    "collapsed": true
   },
   "outputs": [],
   "source": [
    "def vec_estimatePrice(theta0, theta1):\n",
    "    return np.vectorize(lambda x : estimatePrice(theta0, theta1, x))"
   ]
  },
  {
   "cell_type": "code",
   "execution_count": 5,
   "metadata": {
    "collapsed": false
   },
   "outputs": [],
   "source": [
    "def new_thetas(theta0, theta1, learning_rate):\n",
    "    vfunc = vec_estimatePrice(theta0, theta1)\n",
    "    theta0 = (1/float(len(kms))) * learning_rate * np.sum(vfunc(kms) - price)\n",
    "    theta1 = (1/float(len(kms))) * learning_rate * np.sum((vfunc(kms) - price) * kms)\n",
    "    return theta0, theta1"
   ]
  },
  {
   "cell_type": "code",
   "execution_count": 16,
   "metadata": {
    "collapsed": true
   },
   "outputs": [],
   "source": [
    "def train(learning_rate, iterations):\n",
    "    theta0, theta1 = init_thetas()\n",
    "    arr = np.empty((0,2))\n",
    "    \n",
    "    for i in range(iterations):\n",
    "        theta0, theta1 = new_thetas(theta0, theta1, learning_rate)\n",
    "        arr = np.append(arr, np.array([[theta0, theta1]]), axis = 0)\n",
    "        \n",
    "    return arr"
   ]
  },
  {
   "cell_type": "code",
   "execution_count": 55,
   "metadata": {
    "collapsed": false
   },
   "outputs": [
    {
     "data": {
      "text/plain": [
       "[<matplotlib.lines.Line2D at 0x11bcac0b8>]"
      ]
     },
     "execution_count": 55,
     "metadata": {},
     "output_type": "execute_result"
    },
    {
     "data": {
      "image/png": "[encoded data removed]",
      "text/plain": [
       "<matplotlib.figure.Figure at 0x11bd04898>"
      ]
     },
     "metadata": {},
     "output_type": "display_data"
    }
   ],
   "source": [
    "plt.plot(price)"
   ]
  }
 ],
 "metadata": {
  "kernelspec": {
   "display_name": "Python 3",
   "language": "python",
   "name": "python3"
  },
  "language_info": {
   "codemirror_mode": {
    "name": "ipython",
    "version": 3
   },
   "file_extension": ".py",
   "mimetype": "text/x-python",
   "name": "python",
   "nbconvert_exporter": "python",
   "pygments_lexer": "ipython3",
   "version": "3.6.0"
  }
 },
 "nbformat": 4,
 "nbformat_minor": 2
}
